{
  "nbformat": 4,
  "nbformat_minor": 0,
  "metadata": {
    "colab": {
      "provenance": []
    },
    "kernelspec": {
      "name": "python3",
      "display_name": "Python 3"
    },
    "language_info": {
      "name": "python"
    }
  },
  "cells": [
    {
      "cell_type": "code",
      "source": [
        "import torch\n",
        "from transformers import BertTokenizer, BertForSequenceClassification, AdamW\n",
        "from sklearn.model_selection import train_test_split\n",
        "from sklearn.metrics import accuracy_score, precision_score, recall_score, f1_score, classification_report\n",
        "\n",
        "# Step 1: Data Preparation\n",
        "# Example dataset of user reviews and sentiment labels\n",
        "reviews = [\n",
        "    (\"This movie is fantastic!\", \"positive\"),\n",
        "    (\"The acting was terrible.\", \"negative\"),\n",
        "    (\"Great plot and characters.\", \"positive\"),\n",
        "    (\"Disappointing ending.\", \"negative\")\n",
        "]\n",
        "\n",
        "# Split data into text and labels\n",
        "texts = [review[0] for review, _ in reviews]\n",
        "labels = [review[1] for _, review in reviews]\n",
        "\n",
        "# Step 2: Tokenization with BERT tokenizer\n",
        "tokenizer = BertTokenizer.from_pretrained('bert-base-uncased')\n",
        "tokenized_texts = tokenizer(texts, padding=True, truncation=True, return_tensors='pt')\n",
        "\n",
        "# Step 3: Split dataset into train and test sets\n",
        "train_inputs, test_inputs, train_labels, test_labels = train_test_split(\n",
        "    tokenized_texts['input_ids'], labels, test_size=0.2, random_state=42\n",
        ")\n",
        "\n",
        "# Convert labels to PyTorch tensors\n",
        "train_labels = torch.tensor([1 if label == 'positive' else 0 for label in train_labels])\n",
        "test_labels = torch.tensor([1 if label == 'positive' else 0 for label in test_labels])\n",
        "\n",
        "# Step 4: Load pretrained BERT model for sequence classification\n",
        "model = BertForSequenceClassification.from_pretrained('bert-base-uncased', num_labels=2)\n",
        "optimizer = AdamW(model.parameters(), lr=5e-5)\n",
        "\n",
        "# Step 5: Fine-tune BERT model on sentiment classification task\n",
        "model.train()\n",
        "for epoch in range(3):  # Example: Train for 3 epochs\n",
        "    optimizer.zero_grad()\n",
        "    outputs = model(train_inputs, labels=train_labels)\n",
        "    loss = outputs.loss\n",
        "    loss.backward()\n",
        "    optimizer.step()\n",
        "\n",
        "# Step 6: Evaluation\n",
        "model.eval()\n",
        "with torch.no_grad():\n",
        "    outputs = model(test_inputs)\n",
        "    predictions = torch.argmax(outputs.logits, dim=1)\n",
        "    accuracy = accuracy_score(test_labels.tolist(), predictions.tolist())\n",
        "    conf_matrix = classification_report(test_labels.tolist(), predictions.tolist())\n",
        "\n",
        "# Print evaluation metrics\n",
        "print(\"Accuracy:\", accuracy)\n",
        "\n",
        "print(\"Confusion Matrix:\\n\", conf_matrix)\n"
      ],
      "metadata": {
        "colab": {
          "base_uri": "https://localhost:8080/"
        },
        "id": "TP-eYSAGjAEP",
        "outputId": "6624e9a7-0636-49f5-d7b6-1ed71166cfc2"
      },
      "execution_count": 2,
      "outputs": [
        {
          "output_type": "stream",
          "name": "stderr",
          "text": [
            "Some weights of BertForSequenceClassification were not initialized from the model checkpoint at bert-base-uncased and are newly initialized: ['classifier.bias', 'classifier.weight']\n",
            "You should probably TRAIN this model on a down-stream task to be able to use it for predictions and inference.\n",
            "/usr/local/lib/python3.10/dist-packages/transformers/optimization.py:429: FutureWarning: This implementation of AdamW is deprecated and will be removed in a future version. Use the PyTorch implementation torch.optim.AdamW instead, or set `no_deprecation_warning=True` to disable this warning\n",
            "  warnings.warn(\n"
          ]
        },
        {
          "output_type": "stream",
          "name": "stdout",
          "text": [
            "Accuracy: 1.0\n",
            "Confusion Matrix:\n",
            "               precision    recall  f1-score   support\n",
            "\n",
            "           0       1.00      1.00      1.00         1\n",
            "\n",
            "    accuracy                           1.00         1\n",
            "   macro avg       1.00      1.00      1.00         1\n",
            "weighted avg       1.00      1.00      1.00         1\n",
            "\n"
          ]
        }
      ]
    }
  ]
}